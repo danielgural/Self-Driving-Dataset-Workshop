{
 "cells": [
  {
   "cell_type": "code",
   "execution_count": null,
   "metadata": {},
   "outputs": [],
   "source": [
    "!pip install fiftyone nuscenes-devkit"
   ]
  },
  {
   "cell_type": "markdown",
   "metadata": {},
   "source": [
    "## Exploring nuScenes in FiftyOne\n",
    "Due to the multi-sensor structure of nuScenes, the dataset in FiftyOne will be a [Grouped Dataset](https://docs.voxel51.com/user_guide/groups.html?_gl=1*1uqzezz*_gcl_au*MTI3OTEyMjEwMy4xNzI2MTQ5NDk3) with some [Dynamic Group Views](https://docs.voxel51.com/user_guide/using_views.html?_gl=1*1s195kz*_gcl_au*MTI3OTEyMjEwMy4xNzI2MTQ5NDk3#view-groups) thrown in there as well. At a high level, we will group together our samples by their associated scene in nuScenes. At regular intervals of each keyframe or approximately every 0.5 seconds (2Hz), we incorporate data from every sensor type, including their respective detections. This amalgamation of data results in distinct groups, each representing the sensor perspective at a given keyframe. We do have each sensor input for every frame, but since only keyframes are annotated, we choose to only load those in.  "
   ]
  },
  {
   "cell_type": "markdown",
   "metadata": {},
   "source": [
    "## Ingesting nuScenes\n",
    "To get started with nuScenes in FiftyOne, first we need to set up our environment for nuScenes. It will require downloading the dataset or a snippet of it as well as downloading the nuScenes python sdk. Full steps on installing can be found [here](https://www.nuscenes.org/nuscenes?tutorial=nuscenes).\n",
    "\n",
    "Once your nuScenes is installed into your computer, we can kick things off. Let’s start by initializing both nuScenes as well as our FiftyOne dataset. We define our dataset as well as add a group to initialize the dataset to expect grouped data."
   ]
  },
  {
   "cell_type": "code",
   "execution_count": null,
   "metadata": {},
   "outputs": [],
   "source": [
    "from nuscenes import NuScenes\n",
    "import fiftyone as fo\n",
    "\n",
    "dataroot='/home/dan/Documents/models/drivestudio/data/nuscenes/raw/'\n",
    "nusc = NuScenes(version='v1.0-mini', dataroot=dataroot, verbose=True)\n",
    "\n",
    "dataset = fo.Dataset(\"nuscenes_cameras\",overwrite=True)\n",
    "dataset.add_group_field(\"group\", default=\"CAM_FRONT\")"
   ]
  },
  {
   "cell_type": "markdown",
   "metadata": {},
   "source": [
    "## Loading Camera Data\n",
    "Camera data is a bit more straightforward than the lidar data. There is no need to do any prep on the image or save it as a different format. We can go right ahead and grab the detections to add them. The only tricky part is these are no ordinary bounding boxes, they are 3D bounding boxes given in global coordinates!\n",
    "\n",
    "Luckily for us, nuScenes provides some easy ways to convert their bounding boxes to our pixel space relative to what camera the image came from. For camera data, we load all of our boxes for our sample, check to see which ones are in the frame of our camera data, and then add the cuboids to the sample. In order to add a cuboid or a 3D bounding box, we use [polylines](https://docs.voxel51.com/user_guide/using_datasets.html?_gl=1*1vonm1t*_gcl_au*MTI3OTEyMjEwMy4xNzI2MTQ5NDk3#cuboids) and the [from_cuboid()](https://docs.voxel51.com/api/fiftyone.core.labels.html?_gl=1*z39nk3*_gcl_au*MTI3OTEyMjEwMy4xNzI2MTQ5NDk3#fiftyone.core.labels.Polyline.from_cuboid) method. Let’s take a look at how it is done:"
   ]
  },
  {
   "cell_type": "code",
   "execution_count": null,
   "metadata": {},
   "outputs": [],
   "source": [
    "from nuscenes.utils.geometry_utils import box_in_image, view_points\n",
    "import numpy as np\n",
    "from nuscenes.utils.geometry_utils import  BoxVisibility\n",
    "from nuscenes.scripts.export_poses import derive_latlon\n",
    "\n",
    "def camera_sample(group, filepath, sensor, token, scene):\n",
    "    sample = fo.Sample(filepath=filepath, group=group.element(sensor))\n",
    "    data_path, boxes, camera_intrinsic = nusc.get_sample_data(token, box_vis_level=BoxVisibility.NONE,)\n",
    "    image = Image.open(data_path)\n",
    "    width, height = image.size\n",
    "    shape = (height,width)\n",
    "    polylines = []\n",
    "    log = nusc.get('log', scene[\"log_token\"])\n",
    "    location = log[\"location\"]\n",
    "    ego = nusc.get('ego_pose', data[\"ego_pose_token\"])\n",
    "    ego_list = [ego]\n",
    "\n",
    "    latlon = derive_latlon(location,ego_list)\n",
    "    lat = latlon[0][\"latitude\"]\n",
    "    lon = latlon[0][\"longitude\"]\n",
    "    sample[\"location\"] = fo.GeoLocation(\n",
    "        point = [lon,lat]\n",
    "    )\n",
    "    for box in boxes:\n",
    "        if box_in_image(box,camera_intrinsic,shape,vis_level=BoxVisibility.ALL):\n",
    "            c = np.array(nusc.colormap[box.name]) / 255.0\n",
    "            #print(box.name)\n",
    "            corners = view_points(box.corners(), camera_intrinsic, normalize=True)[:2, :]\n",
    "            front = [(corners[0][0]/width,corners[1][0]/height),\n",
    "                    (corners[0][1]/width,corners[1][1]/height),\n",
    "                    (corners[0][2]/width,corners[1][2]/height),\n",
    "                    (corners[0][3]/width,corners[1][3]/height),]\n",
    "            back =  [(corners[0][4]/width,corners[1][4]/height),\n",
    "                    (corners[0][5]/width,corners[1][5]/height),\n",
    "                    (corners[0][6]/width,corners[1][6]/height),\n",
    "                    (corners[0][7]/width,corners[1][7]/height),]\n",
    "            #print(corners.shape)\n",
    "            polylines.append(fo.Polyline.from_cuboid(front + back, label=box.name))\n",
    "    sample[\"cuboids\"] = fo.Polylines(polylines=polylines)\n",
    "    return sample"
   ]
  },
  {
   "cell_type": "code",
   "execution_count": null,
   "metadata": {},
   "outputs": [],
   "source": []
  },
  {
   "cell_type": "markdown",
   "metadata": {},
   "source": [
    "## Adding Samples to the Dataset\n",
    "Next we need to add our camera samples to make our first dataset! Lets loop through all the scenes and add each camera angle, forming groups of 6 samples each."
   ]
  },
  {
   "cell_type": "code",
   "execution_count": null,
   "metadata": {},
   "outputs": [],
   "source": [
    "from PIL import Image\n",
    "from nuscenes.utils.geometry_utils import view_points, BoxVisibility, box_in_image\n",
    "import numpy as np\n",
    "import os\n",
    "\n",
    "# Define our sensor groups\n",
    "groups = [\"CAM_FRONT\", \"CAM_FRONT_RIGHT\", \"CAM_BACK_RIGHT\", \"CAM_BACK\",\n",
    "           \"CAM_BACK_LEFT\", \"CAM_FRONT_LEFT\",]\n",
    "\n",
    "samples = []\n",
    "\n",
    "# Iterate over each scene\n",
    "for scene in nusc.scene:\n",
    "    my_scene = scene\n",
    "    token = my_scene['first_sample_token']\n",
    "    my_sample = nusc.get('sample', token)\n",
    "    last_sample_token = my_scene['last_sample_token']\n",
    "    \n",
    "    # Iterate over each sample in the scene\n",
    "    while not my_sample[\"next\"] == \"\":\n",
    "        scene_token = my_sample[\"scene_token\"]\n",
    "        group = fo.Group()\n",
    "        # Iterate over each sensor in the sample\n",
    "        for sensor in groups:\n",
    "            data = nusc.get('sample_data', my_sample['data'][sensor])\n",
    "            filepath = dataroot + data[\"filename\"]\n",
    "\n",
    "            # Check if the sensor is a camera\n",
    "            if data[\"sensor_modality\"] == \"camera\":\n",
    "                sample = camera_sample(group, filepath, sensor, my_sample['data'][sensor],scene)\n",
    "\n",
    "            # Add metadata to the sample\n",
    "            sample[\"token\"] = data[\"token\"]\n",
    "            sample[\"ego_pose_token\"] = data[\"ego_pose_token\"]\n",
    "            sample[\"calibrated_sensor_token\"] = data[\"calibrated_sensor_token\"]\n",
    "            sample[\"timestamp\"] = data[\"timestamp\"]\n",
    "            sample[\"is_key_frame\"] = data[\"is_key_frame\"]\n",
    "            sample[\"prev\"] = data[\"prev\"]\n",
    "            sample[\"next\"] = data[\"next\"]\n",
    "            sample[\"scene_token\"] = scene_token\n",
    "\n",
    "            \n",
    "            samples.append(sample)\n",
    "\n",
    "        token = my_sample[\"next\"]\n",
    "\n",
    "        my_sample = nusc.get('sample', token)\n",
    "\n",
    "# Add the samples to the dataset, group by scene_token, and launch the app     \n",
    "dataset.add_samples(samples)\n",
    "view = dataset.group_by(\"scene_token\", order_by=\"timestamp\")\n",
    "session = fo.launch_app(view)"
   ]
  },
  {
   "cell_type": "markdown",
   "metadata": {},
   "source": [
    "## Loading in Point Cloud Data"
   ]
  },
  {
   "cell_type": "code",
   "execution_count": null,
   "metadata": {},
   "outputs": [],
   "source": [
    "# New dataset for all sensors including LIDAR and RADAR\n",
    "all_sensor_dataset = fo.Dataset(\"nuscenes_sensors\",overwrite=True)\n",
    "all_sensor_dataset.add_group_field(\"group\", default=\"CAM_FRONT\")"
   ]
  },
  {
   "cell_type": "markdown",
   "metadata": {},
   "source": [
    "Loading a LIDAR sample from nuScenes is composed of two steps, generating the pointcloud and adding the detections. We must convert the binary point clouds to standard in order to ingest them. nuScenes also offers a LIDAR segmentation optional package that allows us to color each point cloud point a color corresponding to its class that we will be utilizing. We start with our lidar token, load in the color map and point cloud that corresponds to the token, and save them back to file with the new coloring and standard `pcd` point cloud file formatting."
   ]
  },
  {
   "cell_type": "code",
   "execution_count": null,
   "metadata": {},
   "outputs": [],
   "source": [
    "from nuscenes.utils.data_io import load_bin_file\n",
    "from nuscenes.utils.color_map import get_colormap\n",
    "from nuscenes.lidarseg.lidarseg_utils import paint_points_label\n",
    "from nuscenes.utils.data_classes import LidarPointCloud\n",
    "import open3d as o3d\n",
    "import os\n",
    "\n",
    "def load_lidar(lidar_token):\n",
    "\n",
    "    #Grab and Generate Colormaps\n",
    "    gt_from = \"lidarseg\"\n",
    "    lidarseg_filename = dataroot + nusc.get(gt_from, lidar_token)['filename']\n",
    "    colormap = get_colormap()\n",
    "    name2index = nusc.lidarseg_name2idx_mapping\n",
    "\n",
    "    coloring = paint_points_label(lidarseg_filename,None,name2index, colormap=colormap)\n",
    "    filepath = dataroot + nusc.get(\"sample_data\", lidar_token)['filename']\n",
    "    root, extension = os.path.splitext(filepath)\n",
    "\n",
    "    #Load Point Cloud\n",
    "    cloud = LidarPointCloud.from_file(filepath)\n",
    "    pcd = o3d.geometry.PointCloud()\n",
    "    pcd.points = o3d.utility.Vector3dVector(cloud.points[:3,:].T)\n",
    "    colors = coloring[:,:3]\n",
    "    colors.max()\n",
    "    pcd.colors = o3d.utility.Vector3dVector(colors)\n",
    "\n",
    "    #Save back Point Cloud\n",
    "    o3d.io.write_point_cloud(root, pcd)\n",
    "\n",
    "    return root"
   ]
  },
  {
   "cell_type": "markdown",
   "metadata": {},
   "source": [
    "With our point cloud file now properly prepared for ingestion, we can move along to adding detections. To do so, we grab all the detections from the keyframe. We use nuScenes SDK’s builtin box methods to retrieve the location, rotation, and dimensions of the box. To match FiftyOne’s [3D detection input](https://docs.voxel51.com/user_guide/using_datasets.html?_gl=1*mn36m*_gcl_au*MTI3OTEyMjEwMy4xNzI2MTQ5NDk3#d-detections), we take `box.orientation.yaw_pitch_roll` for rotation, `box.wlh` for width, length, and height, and  `box.center` for its location. Note too that `fo.Sample(filepath=filepath, group=group.element(sensor))` will automatically detect the pcd file and ingest the sample as a point cloud as well! After the method is run and detections are added, we have our LIDAR sample with detections!"
   ]
  },
  {
   "cell_type": "code",
   "execution_count": null,
   "metadata": {},
   "outputs": [],
   "source": [
    "from nuscenes.utils.geometry_utils import  BoxVisibility\n",
    "from nuscenes.scripts.export_poses import derive_latlon\n",
    "\n",
    "def lidar_sample(group, filepath, sensor, lidar_token, scene):\n",
    "    # Get the lidar data\n",
    "    data_path, boxes, camera_intrinsic = nusc.get_sample_data(lidar_token, box_vis_level=BoxVisibility.NONE,)\n",
    "    data = nusc.get('sample_data', lidar_token)\n",
    "    log = nusc.get('log', scene[\"log_token\"])\n",
    "    location = log[\"location\"]\n",
    "    ego = nusc.get('ego_pose', data[\"ego_pose_token\"])\n",
    "    ego_list = [ego]\n",
    "    latlon = derive_latlon(location,ego_list)\n",
    "    lat = latlon[0][\"latitude\"]\n",
    "    lon = latlon[0][\"longitude\"]\n",
    "\n",
    "    # Create a sample\n",
    "    sample = fo.Sample(filepath=filepath, group=group.element(sensor))\n",
    "\n",
    "    # Add the coords to the sample\n",
    "    sample[\"location\"] = fo.GeoLocation(\n",
    "        point = [lon,lat]\n",
    "    )\n",
    "    \n",
    "    # Add detections to the pcd\n",
    "    detections = []\n",
    "    for box in boxes:\n",
    "                    \n",
    "        x, y, z = box.orientation.yaw_pitch_roll\n",
    "        w, l, h = box.wlh.tolist()\n",
    "\n",
    "        detection = fo.Detection(\n",
    "                label=box.name,\n",
    "                location=box.center.tolist(),\n",
    "                rotation=[z, y, x],\n",
    "                dimensions=[l,w,h]\n",
    "                )\n",
    "        detections.append(detection)\n",
    "    sample[\"ground_truth\"] = fo.Detections(detections=detections)\n",
    "    return sample"
   ]
  },
  {
   "cell_type": "markdown",
   "metadata": {},
   "source": [
    "RADAR is an interesting case. Since we have already stored our 3d detections in the LIDAR sample and RADAR is laid on top of the LIDAR in the 3D visualizer, we don’t need to copy our detections for each point cloud. The simplifies loading RADAR to just:"
   ]
  },
  {
   "cell_type": "code",
   "execution_count": null,
   "metadata": {},
   "outputs": [],
   "source": [
    "from nuscenes.utils.data_classes import RadarPointCloud\n",
    "from pyquaternion import Quaternion\n",
    "import numpy as np\n",
    "\n",
    "def load_radar(filepath, data ):\n",
    "\n",
    "    root, extension = os.path.splitext(filepath)\n",
    "    \n",
    "    #Load Point Cloud\n",
    "    pc = RadarPointCloud.from_file(filepath)\n",
    "\n",
    "    cs_record = nusc.get('calibrated_sensor', data['calibrated_sensor_token'])\n",
    "    pc.rotate(Quaternion(cs_record['rotation']).rotation_matrix)\n",
    "    pc.translate(np.array(cs_record['translation']))\n",
    "\n",
    "    pcd = o3d.geometry.PointCloud()\n",
    "    print(pc.points.shape)\n",
    "    pcd.points = o3d.utility.Vector3dVector(pc.points[:3,:].T)\n",
    "\n",
    "    #Save back Point Cloud\n",
    "    o3d.io.write_point_cloud(root+\"_NEW.pcd\", pcd)\n",
    "    \n",
    "    return root+\"_NEW.pcd\"\n"
   ]
  },
  {
   "cell_type": "markdown",
   "metadata": {},
   "source": [
    "Let's run it back again except this time we are taking cameras, LIDAR, and RADAR samples!"
   ]
  },
  {
   "cell_type": "code",
   "execution_count": null,
   "metadata": {},
   "outputs": [],
   "source": [
    "groups = [\"CAM_FRONT\", \"CAM_FRONT_RIGHT\", \"CAM_BACK_RIGHT\", \"CAM_BACK\",\n",
    "           \"CAM_BACK_LEFT\", \"CAM_FRONT_LEFT\",\"LIDAR_TOP\", \"RADAR_FRONT\",\n",
    "           \"RADAR_FRONT_LEFT\", \"RADAR_FRONT_RIGHT\", \"RADAR_BACK_LEFT\", \"RADAR_BACK_RIGHT\"]\n",
    "\n",
    "samples = []\n",
    "# Iterate over each scene\n",
    "for scene in nusc.scene:\n",
    "    my_scene = scene\n",
    "    token = my_scene['first_sample_token']\n",
    "    my_sample = nusc.get('sample', token)\n",
    "    last_sample_token = my_scene['last_sample_token']\n",
    "    \n",
    "    # Iterate over each sample in the scene\n",
    "    while not my_sample[\"next\"] == \"\":\n",
    "        scene_token = my_sample[\"scene_token\"]\n",
    "        lidar_token = my_sample[\"data\"][\"LIDAR_TOP\"]\n",
    "        group = fo.Group()\n",
    "        # Iterate over each sensor in the sample\n",
    "        for sensor in groups:\n",
    "            data = nusc.get('sample_data', my_sample['data'][sensor])\n",
    "            filepath = dataroot + data[\"filename\"]\n",
    "\n",
    "            # Check if the sensor is lidar\n",
    "            if data[\"sensor_modality\"] == \"lidar\":\n",
    "                filepath = load_lidar(lidar_token)\n",
    "                sample = lidar_sample(group,filepath, sensor, lidar_token, scene)\n",
    "\n",
    "            # Check if the sensor is camera\n",
    "            elif data[\"sensor_modality\"] == \"camera\":\n",
    "                sample = camera_sample(group, filepath, sensor, my_sample['data'][sensor],scene)\n",
    "\n",
    "            # Else its radar\n",
    "            else:\n",
    "                radar_filepath = load_radar(filepath,data)\n",
    "                sample = fo.Sample(filepath=radar_filepath, group=group.element(sensor))\n",
    "\n",
    "            \n",
    "            # Add metadata to the sample\n",
    "            sample[\"token\"] = data[\"token\"]\n",
    "            sample[\"ego_pose_token\"] = data[\"ego_pose_token\"]\n",
    "            sample[\"calibrated_sensor_token\"] = data[\"calibrated_sensor_token\"]\n",
    "            sample[\"timestamp\"] = data[\"timestamp\"]\n",
    "            sample[\"is_key_frame\"] = data[\"is_key_frame\"]\n",
    "            sample[\"prev\"] = data[\"prev\"]\n",
    "            sample[\"next\"] = data[\"next\"]\n",
    "            sample[\"scene_token\"] = scene_token\n",
    "\n",
    "            \n",
    "            samples.append(sample)\n",
    "\n",
    "        token = my_sample[\"next\"]\n",
    "\n",
    "        my_sample = nusc.get('sample', token)\n",
    "\n",
    "# Add the samples to the dataset, group by scene_token, and launch the app\n",
    "all_sensor_dataset.add_samples(samples)\n",
    "view = all_sensor_dataset.group_by(\"scene_token\", order_by=\"timestamp\")\n",
    "session.dataset = all_sensor_dataset"
   ]
  },
  {
   "cell_type": "markdown",
   "metadata": {},
   "source": [
    "# Advanced Techniques\n",
    "Let's begin looking at some advance methods we can do with our self driving dataset by flattening our group dataset. By default, a grouped dataset returns only one active slice when you grab a sample. If you want to look at all cameras at once, we can call `select_group_slices` and pass a media type or a list of group names to get the flattened samples back."
   ]
  },
  {
   "cell_type": "code",
   "execution_count": 5,
   "metadata": {},
   "outputs": [],
   "source": [
    "# Get all the image samples from the dataset\n",
    "flattened_dataset = all_sensor_dataset.select_group_slices(media_type=\"image\")"
   ]
  },
  {
   "cell_type": "markdown",
   "metadata": {},
   "source": [
    "## Leveraging Embeddings\n",
    "One of the strongest ways we can interact with our self driving car dataset is by using embeddings. By utilizing the [FiftyOne Brain](https://docs.voxel51.com/brain.html#), we can can compute embedddings on our dataset and do some awesome things. Let's check them out! "
   ]
  },
  {
   "cell_type": "markdown",
   "metadata": {},
   "source": [
    "### [Compute Visualization](https://docs.voxel51.com/brain.html#visualizing-embeddings)"
   ]
  },
  {
   "cell_type": "code",
   "execution_count": null,
   "metadata": {},
   "outputs": [],
   "source": [
    "import fiftyone.brain as fob\n",
    "\n",
    "results = fob.compute_visualization(\n",
    "    flattened_dataset,  \n",
    "    brain_key=\"embedding_viz\",\n",
    "    model=\"clip-vit-base32-torch\"\n",
    ")"
   ]
  },
  {
   "cell_type": "markdown",
   "metadata": {},
   "source": [
    "### [Compute Similarity](https://docs.voxel51.com/brain.html#similarity)"
   ]
  },
  {
   "cell_type": "code",
   "execution_count": null,
   "metadata": {},
   "outputs": [],
   "source": [
    "fob.compute_similarity(\n",
    "    flattened_dataset,\n",
    "    model=\"clip-vit-base32-torch\",\n",
    "    brain_key=\"img_sim\",\n",
    ")"
   ]
  },
  {
   "cell_type": "code",
   "execution_count": null,
   "metadata": {},
   "outputs": [],
   "source": [
    "session.view = flattened_dataset"
   ]
  },
  {
   "cell_type": "markdown",
   "metadata": {},
   "source": [
    "You can also use the FiftyOne Brain to find :\n",
    "- [Most unique samples](https://docs.voxel51.com/brain.html#image-uniqueness)\n",
    "- [Likely label mistakes](https://docs.voxel51.com/brain.html#label-mistakes)\n",
    "- [Your hardest samples](https://docs.voxel51.com/brain.html#sample-hardness)\n",
    "- [Most Representative Samples](https://docs.voxel51.com/brain.html#image-representativeness)"
   ]
  },
  {
   "cell_type": "code",
   "execution_count": 1,
   "metadata": {},
   "outputs": [],
   "source": [
    "import fiftyone as fo\n",
    "\n",
    "all_sensor_dataset = fo.load_dataset(\"nuscenes_sensors\")"
   ]
  },
  {
   "cell_type": "code",
   "execution_count": 6,
   "metadata": {},
   "outputs": [
    {
     "data": {
      "text/html": [
       "\n",
       "        <iframe\n",
       "            width=\"100%\"\n",
       "            height=\"800\"\n",
       "            src=\"http://localhost:5151/?notebook=True&subscription=299c023d-3a0b-493c-acb3-c5a532d25c84\"\n",
       "            frameborder=\"0\"\n",
       "            allowfullscreen\n",
       "            \n",
       "        ></iframe>\n",
       "        "
      ],
      "text/plain": [
       "<IPython.lib.display.IFrame at 0x782334b5eb60>"
      ]
     },
     "metadata": {},
     "output_type": "display_data"
    }
   ],
   "source": [
    "session.view = all_sensor_dataset.take(6)"
   ]
  },
  {
   "cell_type": "code",
   "execution_count": 2,
   "metadata": {},
   "outputs": [
    {
     "data": {
      "text/html": [
       "\n",
       "<style>\n",
       "@import url(\"https://fonts.googleapis.com/css2?family=Palanquin&display=swap\");\n",
       "\n",
       "body, html {\n",
       "  margin: 0;\n",
       "  padding: 0;\n",
       "  width: 100%;\n",
       "}\n",
       "\n",
       "#focontainer-c120ecfe-f49c-4f10-adf8-d51945eb0504 {\n",
       "  position: relative;\n",
       "  height: 800px;\n",
       "  display: block !important;\n",
       "}\n",
       "#foactivate-c120ecfe-f49c-4f10-adf8-d51945eb0504 {\n",
       "  font-weight: bold;\n",
       "  cursor: pointer;\n",
       "  font-size: 24px;\n",
       "  border-radius: 3px;\n",
       "  text-align: center;\n",
       "  padding: 0.5em;\n",
       "  color: rgb(255, 255, 255);\n",
       "  font-family: \"Palanquin\", sans-serif;\n",
       "  position: absolute;\n",
       "  left: 50%;\n",
       "  top: 50%;\n",
       "  width: 160px;\n",
       "  margin-left: -80px;\n",
       "  margin-top: -23px;\n",
       "  background: hsla(210,11%,15%, 0.8);\n",
       "  border: none;\n",
       "}\n",
       "#foactivate-c120ecfe-f49c-4f10-adf8-d51945eb0504:focus {\n",
       "  outline: none;\n",
       "}\n",
       "#fooverlay-c120ecfe-f49c-4f10-adf8-d51945eb0504 {\n",
       "  width: 100%;\n",
       "  height: 100%;\n",
       "  background: hsla(208, 7%, 46%, 0.7);\n",
       "  position: absolute;\n",
       "  top: 0;\n",
       "  left: 0;\n",
       "  display: none;\n",
       "  cursor: pointer;\n",
       "}\n",
       "</style>\n",
       "\n",
       "<div id=\"focontainer-c120ecfe-f49c-4f10-adf8-d51945eb0504\">\n",
       "   <div id=\"fooverlay-c120ecfe-f49c-4f10-adf8-d51945eb0504\" style=\"display: none;\">\n",
       "      <button id=\"foactivate-c120ecfe-f49c-4f10-adf8-d51945eb0504\" >Activate</button>\n",
       "   </div>\n",
       "   <img src='data:image/jpeg;base64,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' style=\"width: 100%; max-width: 1285px;\"/>\n",
       "</div>\n",
       "\n",
       "<script type=\"text/javascript\">\n",
       "   (function() {\n",
       "     var container = document.getElementById(\"focontainer-c120ecfe-f49c-4f10-adf8-d51945eb0504\");\n",
       "     var overlay = document.getElementById(\"fooverlay-c120ecfe-f49c-4f10-adf8-d51945eb0504\");\n",
       "     fetch(`http://localhost:5151/fiftyone`)\n",
       "     .then(() => {\n",
       "        overlay.addEventListener(\"click\", () => {\n",
       "          fetch(`http://localhost:5151/event`, {\n",
       "            method: \"POST\",\n",
       "            body: JSON.stringify({\n",
       "              event: \"reactivate_notebook_cell\",\n",
       "              data: { subscription: \"c120ecfe-f49c-4f10-adf8-d51945eb0504\" },\n",
       "              subscription: \"c120ecfe-f49c-4f10-adf8-d51945eb0504\"\n",
       "            })\n",
       "          })\n",
       "        });\n",
       "        container.addEventListener(\"mouseenter\", () => overlay.style.display = \"block\");\n",
       "        container.addEventListener(\"mouseleave\", () => overlay.style.display = \"none\");\n",
       "     });\n",
       "   })();\n",
       "</script>"
      ],
      "text/plain": [
       "<IPython.core.display.HTML object>"
      ]
     },
     "metadata": {},
     "output_type": "display_data"
    },
    {
     "name": "stdout",
     "output_type": "stream",
     "text": [
      "\n",
      "Welcome to\n",
      "\n",
      "███████╗██╗███████╗████████╗██╗   ██╗ ██████╗ ███╗   ██╗███████╗\n",
      "██╔════╝██║██╔════╝╚══██╔══╝╚██╗ ██╔╝██╔═══██╗████╗  ██║██╔════╝\n",
      "█████╗  ██║█████╗     ██║    ╚████╔╝ ██║   ██║██╔██╗ ██║█████╗\n",
      "██╔══╝  ██║██╔══╝     ██║     ╚██╔╝  ██║   ██║██║╚██╗██║██╔══╝\n",
      "██║     ██║██║        ██║      ██║   ╚██████╔╝██║ ╚████║███████╗\n",
      "╚═╝     ╚═╝╚═╝        ╚═╝      ╚═╝    ╚═════╝ ╚═╝  ╚═══╝╚══════╝ v1.2.0\n",
      "\n",
      "If you're finding FiftyOne helpful, here's how you can get involved:\n",
      "\n",
      "|\n",
      "|  ⭐⭐⭐ Give the project a star on GitHub ⭐⭐⭐\n",
      "|  https://github.com/voxel51/fiftyone\n",
      "|\n",
      "|  🚀🚀🚀 Join the FiftyOne Slack community 🚀🚀🚀\n",
      "|  https://slack.voxel51.com\n",
      "|\n",
      "\n"
     ]
    }
   ],
   "source": [
    "session = fo.launch_app(all_sensor_dataset)"
   ]
  },
  {
   "cell_type": "code",
   "execution_count": 6,
   "metadata": {},
   "outputs": [
    {
     "name": "stderr",
     "output_type": "stream",
     "text": [
      "/home/dan/anaconda3/envs/dev/lib/python3.10/site-packages/sam2/modeling/sam/transformer.py:270: UserWarning: Memory efficient kernel not used because: (Triggered internally at ../aten/src/ATen/native/transformers/cuda/sdp_utils.cpp:773.)\n",
      "  out = F.scaled_dot_product_attention(q, k, v, dropout_p=dropout_p)\n",
      "/home/dan/anaconda3/envs/dev/lib/python3.10/site-packages/sam2/modeling/sam/transformer.py:270: UserWarning: Memory Efficient attention has been runtime disabled. (Triggered internally at ../aten/src/ATen/native/transformers/sdp_utils_cpp.h:558.)\n",
      "  out = F.scaled_dot_product_attention(q, k, v, dropout_p=dropout_p)\n",
      "/home/dan/anaconda3/envs/dev/lib/python3.10/site-packages/sam2/modeling/sam/transformer.py:270: UserWarning: Flash attention kernel not used because: (Triggered internally at ../aten/src/ATen/native/transformers/cuda/sdp_utils.cpp:775.)\n",
      "  out = F.scaled_dot_product_attention(q, k, v, dropout_p=dropout_p)\n",
      "/home/dan/anaconda3/envs/dev/lib/python3.10/site-packages/sam2/modeling/sam/transformer.py:270: UserWarning: Expected query, key and value to all be of dtype: {Half, BFloat16}. Got Query dtype: float, Key dtype: float, and Value dtype: float instead. (Triggered internally at ../aten/src/ATen/native/transformers/sdp_utils_cpp.h:100.)\n",
      "  out = F.scaled_dot_product_attention(q, k, v, dropout_p=dropout_p)\n",
      "/home/dan/anaconda3/envs/dev/lib/python3.10/site-packages/sam2/modeling/sam/transformer.py:270: UserWarning: CuDNN attention kernel not used because: (Triggered internally at ../aten/src/ATen/native/transformers/cuda/sdp_utils.cpp:777.)\n",
      "  out = F.scaled_dot_product_attention(q, k, v, dropout_p=dropout_p)\n",
      "/home/dan/anaconda3/envs/dev/lib/python3.10/site-packages/torch/nn/modules/module.py:1747: UserWarning: Flash Attention kernel failed due to: No available kernel. Aborting execution.\n",
      "Falling back to all available kernels for scaled_dot_product_attention (which may have a slower speed).\n",
      "  return forward_call(*args, **kwargs)\n"
     ]
    },
    {
     "name": "stdout",
     "output_type": "stream",
     "text": [
      "   4% |/--------------|   94/2364 [3.0m elapsed, 1.2h remaining, 0.5 samples/s]  "
     ]
    }
   ],
   "source": [
    "import fiftyone.zoo as foz\n",
    "\n",
    "model = foz.load_zoo_model(\"segment-anything-2-hiera-tiny-image-torch\")\n",
    "# Prompt with boxes\n",
    "flattened_dataset.apply_model(\n",
    "    model,\n",
    "    label_field=\"sam2\",\n",
    ")"
   ]
  },
  {
   "cell_type": "code",
   "execution_count": null,
   "metadata": {},
   "outputs": [],
   "source": [
    "model = foz.load_zoo_model(\"depth-estimation-transformer-torch\")\n",
    "\n",
    "flattened_dataset.apply_model(model, label_field=\"depth\")"
   ]
  },
  {
   "cell_type": "code",
   "execution_count": null,
   "metadata": {},
   "outputs": [],
   "source": [
    "# Processed cameras:\n",
    "#   idx    camera           original size\n",
    "#    0    CAM_FRONT         (900, 1600)\n",
    "#    1    CAM_FRONT_LEFT    (900, 1600)\n",
    "#    2    CAM_FRONT_RIGHT   (900, 1600)\n",
    "#    3    CAM_BACK_LEFT     (900, 1600)\n",
    "#    4    CAM_BACK_RIGHT    (900, 1600)\n",
    "#    5    CAM_BACK          (900, 1600)"
   ]
  },
  {
   "cell_type": "code",
   "execution_count": null,
   "metadata": {},
   "outputs": [],
   "source": [
    "idx_map = {\"CAM_FRONT\": 0, \"CAM_FRONT_LEFT\": 1, \"CAM_FRONT_RIGHT\": 2, \"CAM_BACK_LEFT\": 3, \"CAM_BACK_RIGHT\": 4, \"CAM_BACK\": 5}"
   ]
  },
  {
   "cell_type": "code",
   "execution_count": null,
   "metadata": {},
   "outputs": [],
   "source": [
    "from fiftyone import ViewField as F\n",
    "dataset2 = dataset.match(F(\"scene_token\")==\"cc8c0bf57f984915a77078b10eb33198\").clone()"
   ]
  },
  {
   "cell_type": "code",
   "execution_count": null,
   "metadata": {},
   "outputs": [],
   "source": [
    "dataset2.name=\"nuscenes_scene_0\"\n",
    "dataset.persistent = True"
   ]
  },
  {
   "cell_type": "code",
   "execution_count": null,
   "metadata": {},
   "outputs": [],
   "source": [
    "i = 0\n",
    "hz_adj = 5\n",
    "cam_groups = [\"CAM_FRONT\", \"CAM_FRONT_RIGHT\", \"CAM_BACK_RIGHT\", \"CAM_BACK\",\n",
    "           \"CAM_BACK_LEFT\", \"CAM_FRONT_LEFT\",]\n",
    "for group in dataset2.iter_groups():\n",
    "    for sensor in group:\n",
    "        if sensor in cam_groups:\n",
    "            frame_num = i * hz_adj\n",
    "            cam_num = idx_map[sensor]\n",
    "            filename = f\"{str(frame_num).zfill(3)}_{cam_num}.png\"\n",
    "            sample = group[sensor]\n",
    "            sample[\"sky_mask\"] = fo.Segmentation(\n",
    "                mask_path=\"/home/dan/Documents/models/drivestudio/data/nuscenes/processed_10Hz/mini/000/sky_masks/\"+filename\n",
    "                )\n",
    "            sample[\"dynamic_mask_all\"] = fo.Segmentation(\n",
    "                mask_path=\"/home/dan/Documents/models/drivestudio/data/nuscenes/processed_10Hz/mini/000/dynamic_masks/all/\"+filename\n",
    "                )\n",
    "            sample[\"fine_dynamic_mask_all\"] = fo.Segmentation(\n",
    "                mask_path=\"/home/dan/Documents/models/drivestudio/data/nuscenes/processed_10Hz/mini/000/fine_dynamic_masks/all/\"+filename\n",
    "                )\n",
    "            sample[\"dynamic_mask_human\"] = fo.Segmentation(\n",
    "                mask_path=\"/home/dan/Documents/models/drivestudio/data/nuscenes/processed_10Hz/mini/000/dynamic_masks/human/\"+filename\n",
    "                )\n",
    "            sample[\"fine_dynamic_mask_human\"] = fo.Segmentation(\n",
    "                mask_path=\"/home/dan/Documents/models/drivestudio/data/nuscenes/processed_10Hz/mini/000/fine_dynamic_masks/human/\"+filename\n",
    "                )\n",
    "            sample[\"dynamic_mask_vehicle\"] = fo.Segmentation(\n",
    "                mask_path=\"/home/dan/Documents/models/drivestudio/data/nuscenes/processed_10Hz/mini/000/dynamic_masks/vehicle/\"+filename\n",
    "                )\n",
    "            sample[\"fine_dynamic_mask_vehicle\"] = fo.Segmentation(\n",
    "                mask_path=\"/home/dan/Documents/models/drivestudio/data/nuscenes/processed_10Hz/mini/000/fine_dynamic_masks/vehicle/\"+filename\n",
    "                )\n",
    "            \n",
    "            sample.save()\n",
    "    i += 1"
   ]
  },
  {
   "cell_type": "code",
   "execution_count": null,
   "metadata": {},
   "outputs": [],
   "source": [
    "session.dataset = dataset2"
   ]
  },
  {
   "cell_type": "code",
   "execution_count": 1,
   "metadata": {},
   "outputs": [],
   "source": [
    "import fiftyone as fo\n",
    "\n",
    "dataset2 = fo.load_dataset(\"nuscenes_scene_0\")"
   ]
  },
  {
   "cell_type": "code",
   "execution_count": 2,
   "metadata": {},
   "outputs": [
    {
     "data": {
      "text/html": [
       "\n",
       "        <iframe\n",
       "            width=\"100%\"\n",
       "            height=\"800\"\n",
       "            src=\"http://localhost:5151/?notebook=True&subscription=f6e92b62-0bff-47d6-947a-46c6a505b513\"\n",
       "            frameborder=\"0\"\n",
       "            allowfullscreen\n",
       "            \n",
       "        ></iframe>\n",
       "        "
      ],
      "text/plain": [
       "<IPython.lib.display.IFrame at 0x7d56d91a3cd0>"
      ]
     },
     "metadata": {},
     "output_type": "display_data"
    }
   ],
   "source": [
    "session = fo.launch_app(dataset2)                   "
   ]
  },
  {
   "cell_type": "code",
   "execution_count": null,
   "metadata": {},
   "outputs": [],
   "source": [
    "cam_groups = [\"CAM_FRONT\", \"CAM_FRONT_RIGHT\", \"CAM_BACK_RIGHT\", \"CAM_BACK\",\n",
    "           \"CAM_BACK_LEFT\", \"CAM_FRONT_LEFT\",]"
   ]
  },
  {
   "cell_type": "code",
   "execution_count": null,
   "metadata": {},
   "outputs": [],
   "source": [
    "import fiftyone.zoo as foz\n",
    "\n",
    "model = foz.load_zoo_model(\"segment-anything-2-hiera-tiny-image-torch\")\n",
    "# Prompt with boxes\n",
    "dataset2.select_group_slices(cam_groups).apply_model(\n",
    "    model,\n",
    "    label_field=\"sam2\",\n",
    ")"
   ]
  },
  {
   "cell_type": "code",
   "execution_count": null,
   "metadata": {},
   "outputs": [],
   "source": [
    "import fiftyone.zoo as foz\n",
    "\n",
    "model = foz.load_zoo_model(\"depth-estimation-transformer-torch\")\n",
    "\n",
    "dataset2.select_group_slices(cam_groups).apply_model(model, label_field=\"depth\")"
   ]
  },
  {
   "cell_type": "code",
   "execution_count": null,
   "metadata": {},
   "outputs": [],
   "source": [
    "session = fo.launch_app(dataset2)"
   ]
  },
  {
   "cell_type": "code",
   "execution_count": null,
   "metadata": {},
   "outputs": [],
   "source": [
    "import fiftyone as fo\n",
    "\n",
    "dataset3 = fo.Dataset(\"nuscenes_splats\",overwrite=True)\n",
    "dataset3.add_group_field(\"group\", default=\"Background_RGBS\")\n",
    "group = fo.Group()\n",
    "samples = []\n",
    "\n",
    "sample = fo.Sample(\n",
    "    filepath=\"/home/dan/Documents/models/drivestudio/outputs/ns0/ns0/videos/full_set_30000_Background_rgbs.mp4\",\n",
    "     group=group.element(\"Background_RGBS\")\n",
    "     )\n",
    "samples.append(sample)\n",
    "\n",
    "sample = fo.Sample(\n",
    "    filepath=\"/home/dan/Documents/models/drivestudio/outputs/ns0/ns0/videos/full_set_30000_DeformableNodes_rgbs.mp4\",\n",
    "     group=group.element(\"DeformableNodes_RGBS\")\n",
    "     )\n",
    "samples.append(sample)\n",
    "\n",
    "sample = fo.Sample(\n",
    "    filepath=\"/home/dan/Documents/models/drivestudio/outputs/ns0/ns0/videos/full_set_30000_Dynamic_rgbs.mp4\",\n",
    "     group=group.element(\"Dynamic_RGBS\")\n",
    "     )\n",
    "samples.append(sample)\n",
    "\n",
    "sample = fo.Sample(\n",
    "    filepath=\"/home/dan/Documents/models/drivestudio/outputs/ns0/ns0/videos/full_set_30000_gt_rgbs.mp4\",\n",
    "     group=group.element(\"GT_RGBS\")\n",
    "     )\n",
    "samples.append(sample)\n",
    "\n",
    "sample = fo.Sample(\n",
    "    filepath=\"/home/dan/Documents/models/drivestudio/outputs/ns0/ns0/videos/full_set_30000_rgbs.mp4\",\n",
    "     group=group.element(\"RGBS\")\n",
    "     )\n",
    "samples.append(sample)\n",
    "\n",
    "sample = fo.Sample(\n",
    "    filepath=\"/home/dan/Documents/models/drivestudio/outputs/ns0/ns0/videos/full_set_30000_RigidNodes_rgbs.mp4\",\n",
    "     group=group.element(\"RigidNodes_RGBS\")\n",
    "     )\n",
    "samples.append(sample)\n",
    "\n",
    "sample = fo.Sample(\n",
    "    filepath=\"/home/dan/Documents/models/drivestudio/outputs/ns0/ns0/videos/full_set_30000_SMPLNodes_rgbs.mp4\",\n",
    "     group=group.element(\"SMPLNodes_RGBS\")\n",
    "     )\n",
    "samples.append(sample)\n",
    "\n",
    "dataset3.add_samples(samples)"
   ]
  },
  {
   "cell_type": "code",
   "execution_count": null,
   "metadata": {},
   "outputs": [],
   "source": [
    "from fiftyone.utils.splats import SplatFile\n",
    "sample = dataset3.first()\n",
    "sample[\"splat\"] = SplatFile(filepath=\"/home/dan/Documents/driving/background.ksplat\")\n",
    "sample.save()"
   ]
  },
  {
   "cell_type": "code",
   "execution_count": null,
   "metadata": {},
   "outputs": [],
   "source": [
    "import fiftyone as fo\n",
    "dataset3 = fo.load_dataset(\"nuscenes_splats\")"
   ]
  },
  {
   "cell_type": "code",
   "execution_count": null,
   "metadata": {},
   "outputs": [],
   "source": [
    "session = fo.launch_app(dataset3)"
   ]
  }
 ],
 "metadata": {
  "kernelspec": {
   "display_name": "dev",
   "language": "python",
   "name": "python3"
  },
  "language_info": {
   "codemirror_mode": {
    "name": "ipython",
    "version": 3
   },
   "file_extension": ".py",
   "mimetype": "text/x-python",
   "name": "python",
   "nbconvert_exporter": "python",
   "pygments_lexer": "ipython3",
   "version": "3.10.14"
  }
 },
 "nbformat": 4,
 "nbformat_minor": 2
}
